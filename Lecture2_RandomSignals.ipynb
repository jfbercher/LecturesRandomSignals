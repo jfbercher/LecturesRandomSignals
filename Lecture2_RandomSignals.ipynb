{
 "cells": [
  {
   "cell_type": "markdown",
   "metadata": {},
   "source": [
    "# Table of Contents\n",
    "* &nbsp;\n",
    "\t* [Filtering](#Filtering)\n",
    "\t\t* [General relations for cross-correlations](#General-relations-for-cross-correlations)\n",
    "\t\t* [By-products](#By-products)\n",
    "\t\t* [Examples\n",
    " ](#Examples)\n",
    "\t\t* [Correlation matrix](#Correlation-matrix)\n",
    "\t\t* [Identification of a filter by cross-correlation](#Identification-of-a-filter-by-cross-correlation)\n"
   ]
  },
  {
   "cell_type": "code",
   "execution_count": 24,
   "metadata": {
    "collapsed": false
   },
   "outputs": [
    {
     "name": "stdout",
     "output_type": "stream",
     "text": [
      "... Configuring matplotlib formats\n",
      "... Configuring matplotlib with inline figures\n",
      "... Importing numpy as np, scipy as sp, pyplot as plt, scipy.stats as stats\n",
      "   ... scipy.signal as sig\n",
      "... Importing widgets, display, HTML, Image, Javascript\n",
      "... Some LaTeX definitions\n"
     ]
    },
    {
     "data": {
      "text/html": [
       "\n",
       "$$\\require{color}\n",
       "\\require{cancel}\n",
       "\\def\\tf#1{{\\mathrm{FT}\\left\\{ #1 \\right\\}}}\n",
       "\\def\\flecheTF{\\rightleftharpoons }\n",
       "\\def\\TFI#1#2#3{{\\displaystyle{\\int_{-\\infty}^{+\\infty} #1 ~e^{j2\\pi #2 #3} \n",
       "~\\dr{#2}}}}\n",
       "\\def\\TF#1#2#3{{\\displaystyle{\\int_{-\\infty}^{+\\infty} #1 ~e^{-j2\\pi #3 #2} \n",
       "~\\dr{#2}}}}\n",
       "\\def\\sha{ш}\n",
       "\\def\\dr#1{\\mathrm{d}#1}\n",
       "\\def\\egalpardef{\\mathop{=}\\limits^\\triangle}\n",
       "\\def\\sinc#1{{\\mathrm{sinc}\\left( #1 \\right)}}\n",
       "\\def\\rect{\\mathrm{rect}}\n",
       "\\definecolor{lightred}{rgb}{1,0.1,0}\n",
       "\\def\\myblueeqbox#1{{\\fcolorbox{blue}{lightblue}{$\textcolor{blue}{ #1}$}}}\n",
       "\\def\\myeqbox#1#2{{\\fcolorbox{#1}{light#1}{$\textcolor{#1}{ #2}$}}}\n",
       "\\def\\eqbox#1#2#3#4{{\\fcolorbox{#1}{#2}{$\\textcolor{#3}{ #4}$}}}\n",
       "% border|background|text\n",
       "\\def\\eqboxa#1{{\\boxed{#1}}}\n",
       "\\def\\eqboxb#1{{\\eqbox{green}{white}{green}{#1}}}\n",
       "\\def\\eqboxc#1{{\\eqbox{blue}{white}{blue}{#1}}}\n",
       "\\def\\eqboxd#1{{\\eqbox{blue}{lightblue}{blue}{#1}}}\n",
       "\\def\\E#1{\\mathbb{E}\\left[#1\\right]}\n",
       "\\def\\ta#1{\\left<#1\\right>}\n",
       "\\def\\egalparerg{{\\mathop{=}\\limits_\\mathrm{erg}}}\n",
       "\\def\\expo#1{\\exp\\left(#1\\right)}\n",
       "\\def\\d#1{\\mathrm{d}#1}\n",
       "\\def\\wb{\\mathbf{w}} \n",
       "\\def\\sb{\\mathbf{s}} \n",
       "\\def\\xb{\\mathbf{x}}\n",
       "\\def\\Rb{\\mathbf{R}} \n",
       "\\def\\rb{\\mathbf{r}} \n",
       "\\def\\mystar{{*}}\n",
       "\\def\\ub{\\mathbf{u}}\n",
       "\\def\\wbopt{\\mathop{\\mathbf{w}}\\limits^\\triangle}\n",
       "\\def\\deriv#1#2{\\frac{\\mathrm{d}#1}{\\mathrm{d}#2}}\n",
       "\\def\\Ub{\\mathbf{U}}\n",
       "\\def\\db{\\mathbf{d}}\n",
       "\\def\\eb{\\mathbf{e}}\n",
       "\\def\\vb{\\mathbf{v}}\n",
       "\\def\\Ib{\\mathbf{I}}\n",
       "\\def\\Vb{\\mathbf{V}}\n",
       "\\def\\Lambdab{\\mathbf{\\Lambda}}\n",
       "\\def\\Ab{\\mathbf{A}}\n",
       "\\def\\Bb{\\mathbf{B}}\n",
       "\\def\\Cb{\\mathbf{C}}\n",
       "\\def\\Db{\\mathbf{D}}\n",
       "\\def\\Kb{\\mathbf{K}}\n",
       "\\def\\sinc#1{\\mathrm{sinc\\left(#1\\right)}}\n",
       "$$\n"
      ],
      "text/plain": [
       "<IPython.core.display.HTML object>"
      ]
     },
     "metadata": {},
     "output_type": "display_data"
    },
    {
     "name": "stdout",
     "output_type": "stream",
     "text": [
      "... Defining figures captions \n"
     ]
    },
    {
     "data": {
      "text/html": [
       "<style>\n",
       ".caption {\n",
       "font-weight: normal;\n",
       "text-align: left;\n",
       "width:60%; margin-left:10%; border:2px solid; padding-top:5px; padding-bottom:5px;\n",
       "background-color:white;border-color:#efd3d7;color:black;\n",
       "border-radius:8px;-webkit-border-radius:8px;-moz-border-radius:8px;border-radius:8px\n",
       "}\n",
       "</style>"
      ],
      "text/plain": [
       "<IPython.core.display.HTML object>"
      ]
     },
     "metadata": {},
     "output_type": "display_data"
    },
    {
     "name": "stdout",
     "output_type": "stream",
     "text": [
      "... Loading customized Javascript for interactive solutions (show/hide)\n"
     ]
    }
   ],
   "source": [
    "%run nbinit.ipy\n",
    "js_addon()"
   ]
  },
  {
   "cell_type": "code",
   "execution_count": 23,
   "metadata": {
    "collapsed": false
   },
   "outputs": [],
   "source": [
    "from scipy.signal import lfilter\n",
    "from scipy.fftpack import fft, ifft\n",
    "%matplotlib inline"
   ]
  },
  {
   "cell_type": "markdown",
   "metadata": {},
   "source": [
    "## Filtering"
   ]
  },
  {
   "cell_type": "markdown",
   "metadata": {},
   "source": [
    "### General relations for cross-correlations"
   ]
  },
  {
   "cell_type": "markdown",
   "metadata": {},
   "source": [
    "We consider a situation where we want to study the correlations between the different inputs and outputs of a pair of two filters: \n",
    "$$\n",
    "\\left\\{\n",
    "\\begin{array}{lcr}\n",
    "Y_1(n,\\omega) & = & (X_1*h_1)(n,\\omega),\\\\\n",
    "Y_2(n,\\omega) & = & (X_2*h_2)(n,\\omega),\n",
    "\\end{array}\n",
    "\\right.\n",
    "$$"
   ]
  },
  {
   "cell_type": "markdown",
   "metadata": {},
   "source": [
    "<img src=\"fig_filter1.png\" style=\"max-height: 60%; max-width: 60%;\" />\n",
    "<img src=\"fig_filter2.png\" style=\"max-height: 60%; max-width: 60%;\" />"
   ]
  },
  {
   "cell_type": "markdown",
   "metadata": {},
   "source": [
    "Let us compute the intercorrelation between $Y_1(n)$ and $Y_2(n)$ :\n",
    "$$\n",
    "R_{Y_1Y_2}(m) = \\E{Y_1(n,\\omega)Y_2^*(n-m,\\omega))} = \n",
    "\\E{(X_1*h_1)(n,\\omega))(X_2^* *h_2^*)(n-m,\\omega))}. \n",
    "$$\n",
    "The two convolution products are\n",
    "\\begin{eqnarray*}\n",
    "(X_1*h_1)(n,\\omega)) & = & \\sum_u X_1(u,\\omega))h_1(n-u),\\\\\n",
    "(X_2*h_2)(n-m,\\omega))& = & \\sum_v X_2(v,\\omega))h_2(n-m-v), \n",
    "\\end{eqnarray*}\n",
    "and\n",
    "\\begin{eqnarray*}\n",
    "R_{Y_1Y_2}(m) & = & \\E{\\sum_u X_1(n-u,\\omega))h_1(u)\\sum_v \n",
    "X_2^*(n-m-v,\\omega))h_2^*(v)}\\\\\n",
    "& = & \\E{\\sum_u \\sum_v X_1(n-u)h_1(u) X_2^*(n-m-v)h_2^*(v)}\\\\\n",
    "& = & \\sum_u \\sum_v h_1(u) R_{X_1X_2}(m+v-u) h_2^*(v).\n",
    "\\end{eqnarray*}\n",
    "Looking at the sum over $u$, we recognize a convolution  product between\n",
    "$h_1$ and $R_{X_1X_2}$, expressed at time $(m+v)$ :\n",
    "\\begin{eqnarray*}\n",
    "R_{Y_1Y_2}(m) & = & \\sum_v (h_1 * R_{X_1X_2})(m+v) h_2^*(v)\\\\\n",
    "& = & \\sum_v (h_1 * R_{X_1X_2})(m+v) h_2^{(-)*}(-v),\n",
    "\\end{eqnarray*}\n",
    "where we have noted $h_2^{(-)}(v) = h_2(-v)$. In this last relation, we recognize anoter convolution product, this time between  $(h_1 * R_{X_1X_2})$ and $h_2^{*(-)}$ :\n",
    "\\begin{eqnarray*}\n",
    "R_{Y_1Y_2}(m) & = & \\sum_v (h_1 * R_{X_1X_2})(m+v) h_2^{*(-)}(-v)\\\\\n",
    "& = & \\sum_{v'}(h_1 * R_{X_1X_2})(m-v') h_2^{*(-)}(v') \\\\\n",
    "& = & \\left( h_1 * R_{X_1X_2} * h_2^{*(-)} \\right) (m).\n",
    "\\end{eqnarray*}\n",
    "\n",
    "We finally obtain the important formula:\n",
    "$$\n",
    "\\boxed{R_{Y_1Y_2}(m) = \\left( h_1 * R_{X_1X_2} * h_2^{*(-)}\\right) (m)}.\n",
    "$$"
   ]
  },
  {
   "cell_type": "markdown",
   "metadata": {},
   "source": [
    "### By-products"
   ]
  },
  {
   "cell_type": "markdown",
   "metadata": {},
   "source": [
    "- **[Autocorrelation of the output of a filter]** With a single filter we can apply the previous formula, with \n",
    "$$\n",
    "\\left\\{\n",
    "\\begin{array}{l}\n",
    "X_1=X_2=X, \\\\\n",
    "h_1=h_2=h.\n",
    "\\end{array}\n",
    "\\right.\n",
    "$$\n",
    "Of course $Y_1=Y_2=Y$, and\n",
    "$$\n",
    "\\boxed{R_{YY}(m) = \\left( h * R_{XX} * h^{*(-)}\\right) (m)}.\n",
    "$$\n",
    "\n",
    "- **[Cross correlation between output and input]** We want to measure the correlation between the input and output of a filter. Toward this goal, we consider\n",
    "$$\n",
    "\\left\\{\n",
    "\\begin{array}{l}\n",
    "X_1=X_2=X, \\\\\n",
    "Y_1=Y,\\\\\n",
    "Y_2=X,\n",
    "h_1=h, \\\\\n",
    "h_2=h.\n",
    "\\end{array}\n",
    "\\right.\n",
    "$$\n",
    "In this case, we got\n",
    "$$\n",
    "\\boxed{R_{YX}(m) = \\left( h * R_{XX}\\right) (m)}.\n",
    "$$\n",
    "The cross correlation between the output and the input of filter has the very same apparence as the filtering which links the output to the input. "
   ]
  },
  {
   "cell_type": "markdown",
   "metadata": {},
   "source": [
    "### Examples  "
   ]
  },
  {
   "cell_type": "markdown",
   "metadata": {},
   "source": [
    " \n",
    " \n",
    " >We study now the filtering of random signals. We begin with the classical impulse response $h(n) = a^n$, with $x(n)$ a uniform distributed white noise at the input, and we denote $y(n)$ the output. \n",
    " \n",
    " >1. Filter the signal $x(n)$, with the help of the function `lfilter`. Compare the input and output signals, and in particular their variations. Compare the histograms. Look at the Fourier transform of the output. Do this for several values of $a$, beginning with $a=0.9$.\n",
    " \n",
    " >2. Using the function `xcorr` (import it via `from correlation import xcorr`), compute all the possible correlations between the input and the output. What would be the correlation matrix associated with the signal $x(n) = [x(n)~ y(n)]^t$? Compare the impulse response $h$ to the cross-correlation $Ryx(k)$. Explain. Experiment by varying the number of samples $N$ and $a$ (including its sign).\n",
    " \n",
    " >3. Consider the identification of the impulse response by cross-correlation, as above, but in the noisy case. Add a Gaussian noise to the output and compute the cross-correlation. Observe, comment and experiment with the parameters. "
   ]
  },
  {
   "cell_type": "markdown",
   "metadata": {},
   "source": [
    " \n",
    " The filtering is done thanks to the function `lfilter`. We have first to import it, _eg_ as\n",
    " \n",
    "     from scipy.signal import lfilter\n",
    " We will also need to play with ffts so it is a good time to import it from fftpack\n",
    " \n",
    "     from scipy.fft import fft, ifft\n",
    "     "
   ]
  },
  {
   "cell_type": "code",
   "execution_count": null,
   "metadata": {
    "collapsed": true
   },
   "outputs": [],
   "source": [
    "N=1000 #Number of samples\n",
    "x=stats.uniform(-0.5,1).rvs(N)\n",
    "a=0.9\n",
    "# Filtering and plots...\n",
    "# FILL IN..."
   ]
  },
  {
   "cell_type": "code",
   "execution_count": 28,
   "metadata": {
    "cbox_ck": false,
    "cbox_id": "myCheck1",
    "collapsed": false,
    "widget": true
   },
   "outputs": [
    {
     "data": {
      "text/html": [
       "<div class=\"onoffswitch\">\n",
       "<input type=\"checkbox\" name=\"onoffswitch\" class=\"onoffswitch-checkbox\"\n",
       "onclick=\"document.getElementById('myCheck1').checked ? \n",
       "show_input(2) : hide_input(2)\" \n",
       "id=\"myCheck1\"  checked>\n",
       "<label class=\"onoffswitch-label\" for=\"myCheck1\"> \n",
       "<span class=\"onoffswitch-inner\"></span> \n",
       "<span class=\"onoffswitch-switch\"></span>\n",
       "</label>\n",
       "</div>"
      ],
      "text/plain": [
       "<IPython.core.display.HTML object>"
      ]
     },
     "metadata": {},
     "output_type": "display_data"
    }
   ],
   "source": [
    "from IPython.display import HTML, display, Javascript\n",
    "display(HTML('<div class=\"onoffswitch\">\\n<input type=\"checkbox\" name=\"onoffswitch\" class=\"onoffswitch-checkbox\"\\nonclick=\"document.getElementById('+\"'myCheck1'\"+').checked ? \\nshow_input(2) : hide_input(2)\" \\nid=\"myCheck1\"  checked>\\n<label class=\"onoffswitch-label\" for=\"myCheck1\"> \\n<span class=\"onoffswitch-inner\"></span> \\n<span class=\"onoffswitch-switch\"></span>\\n</label>\\n</div>'))"
   ]
  },
  {
   "cell_type": "code",
   "execution_count": null,
   "metadata": {
    "collapsed": false,
    "hidden": true
   },
   "outputs": [],
   "source": [
    "y=lfilter([1],[1, -a],x)\n",
    "figure(figsize=(8,3))\n",
    "plot(x); xlabel(\"Time\"); title(\"Initial signal\")\n",
    "figure(figsize=(8,3))\n",
    "plot(y); xlabel(\"Time\"); title(\"Filtered signal\") "
   ]
  },
  {
   "cell_type": "markdown",
   "metadata": {
    "hidden": true
   },
   "source": [
    " We see that the output has slower variations than the input. This is the result of the filtering operation. Let us now look at the histograms: "
   ]
  },
  {
   "cell_type": "code",
   "execution_count": null,
   "metadata": {
    "collapsed": true
   },
   "outputs": [],
   "source": [
    "#Histograms \n",
    "# FILL IN"
   ]
  },
  {
   "cell_type": "code",
   "execution_count": 29,
   "metadata": {
    "cbox_ck": false,
    "cbox_id": "myCheck2",
    "collapsed": false,
    "widget": true
   },
   "outputs": [
    {
     "data": {
      "text/html": [
       "<div class=\"onoffswitch\">\n",
       "<input type=\"checkbox\" name=\"onoffswitch\" class=\"onoffswitch-checkbox\"\n",
       "onclick=\"document.getElementById('myCheck2').checked ? \n",
       "show_input(2) : hide_input(2)\" \n",
       "id=\"myCheck2\"  checked>\n",
       "<label class=\"onoffswitch-label\" for=\"myCheck2\"> \n",
       "<span class=\"onoffswitch-inner\"></span> \n",
       "<span class=\"onoffswitch-switch\"></span>\n",
       "</label>\n",
       "</div>"
      ],
      "text/plain": [
       "<IPython.core.display.HTML object>"
      ]
     },
     "metadata": {},
     "output_type": "display_data"
    }
   ],
   "source": [
    "from IPython.display import HTML, display, Javascript\n",
    "display(HTML('<div class=\"onoffswitch\">\\n<input type=\"checkbox\" name=\"onoffswitch\" class=\"onoffswitch-checkbox\"\\nonclick=\"document.getElementById('+\"'myCheck2'\"+').checked ? \\nshow_input(2) : hide_input(2)\" \\nid=\"myCheck2\"  checked>\\n<label class=\"onoffswitch-label\" for=\"myCheck2\"> \\n<span class=\"onoffswitch-inner\"></span> \\n<span class=\"onoffswitch-switch\"></span>\\n</label>\\n</div>'))"
   ]
  },
  {
   "cell_type": "code",
   "execution_count": null,
   "metadata": {
    "collapsed": false,
    "hidden": true
   },
   "outputs": [],
   "source": [
    "# Histograms\n",
    "figure(figsize=(8,3))\n",
    "plt.hist(x,bins=20); plt.xlabel(\"Amplitude\"); plt.title(\"Initial signal\") \n",
    "figure(figsize=(8,3))\n",
    "plt.hist(y,bins=20); plt.xlabel(\"Amplitude\"); plt.title(\"Filtered signal\") "
   ]
  },
  {
   "cell_type": "markdown",
   "metadata": {
    "hidden": true
   },
   "source": [
    "While the initial signal is uniformly distributed, the histogram of the output looks like the histogram of a gaussian. Actually, this is related to the central limit theorem: the mixture of iid variables tends to a gaussian. This also explains th emodification of the amplitudes observed on the time signal. "
   ]
  },
  {
   "cell_type": "markdown",
   "metadata": {},
   "source": [
    " Let us finally look at the Fourier transform:"
   ]
  },
  {
   "cell_type": "code",
   "execution_count": null,
   "metadata": {
    "collapsed": true
   },
   "outputs": [],
   "source": [
    "#FILL IN"
   ]
  },
  {
   "cell_type": "code",
   "execution_count": 30,
   "metadata": {
    "cbox_ck": false,
    "cbox_id": "myCheck3",
    "collapsed": false,
    "widget": true
   },
   "outputs": [
    {
     "data": {
      "text/html": [
       "<div class=\"onoffswitch\">\n",
       "<input type=\"checkbox\" name=\"onoffswitch\" class=\"onoffswitch-checkbox\"\n",
       "onclick=\"document.getElementById('myCheck3').checked ? \n",
       "show_input(3) : hide_input(3)\" \n",
       "id=\"myCheck3\"  checked>\n",
       "<label class=\"onoffswitch-label\" for=\"myCheck3\"> \n",
       "<span class=\"onoffswitch-inner\"></span> \n",
       "<span class=\"onoffswitch-switch\"></span>\n",
       "</label>\n",
       "</div>"
      ],
      "text/plain": [
       "<IPython.core.display.HTML object>"
      ]
     },
     "metadata": {},
     "output_type": "display_data"
    }
   ],
   "source": [
    "from IPython.display import HTML, display, Javascript\n",
    "display(HTML('<div class=\"onoffswitch\">\\n<input type=\"checkbox\" name=\"onoffswitch\" class=\"onoffswitch-checkbox\"\\nonclick=\"document.getElementById('+\"'myCheck3'\"+').checked ? \\nshow_input(3) : hide_input(3)\" \\nid=\"myCheck3\"  checked>\\n<label class=\"onoffswitch-label\" for=\"myCheck3\"> \\n<span class=\"onoffswitch-inner\"></span> \\n<span class=\"onoffswitch-switch\"></span>\\n</label>\\n</div>'))"
   ]
  },
  {
   "cell_type": "code",
   "execution_count": null,
   "metadata": {
    "collapsed": false,
    "hidden": true
   },
   "outputs": [],
   "source": [
    "f=arange(N)/N-0.5\n",
    "fig,ax=subplots(2,1,figsize=(7,5))\n",
    "ax[0].plot(f,abs(fftshift(fft(x))))\n",
    "ax[0].set_title(\"Fourier transform of the input\")\n",
    "ax[0].set_xlabel(\"Frequency\")\n",
    "ax[0].axis('tight')  #Tight layout of the axis\n",
    "ax[1].plot(f,abs(fftshift(fft(y))))\n",
    "ax[1].set_title(\"Fourier transform of the output\")\n",
    "ax[1].set_xlabel(\"Frequency\")\n",
    "fig.tight_layout()\n",
    "ax[1].axis('tight')"
   ]
  },
  {
   "cell_type": "markdown",
   "metadata": {
    "hidden": true
   },
   "source": [
    " Recall how the transfer function changes with $a$:"
   ]
  },
  {
   "cell_type": "code",
   "execution_count": null,
   "metadata": {
    "collapsed": false,
    "hidden": true
   },
   "outputs": [],
   "source": [
    "figure(figsize=(8,3))\n",
    "d=zeros(N); d[0]=1\n",
    "for a in (-0.95, -0.8, -0.4, 0.4, 0.8, 0.9):\n",
    "    h=lfilter([1],[1, -a],d)\n",
    "    H=fft(h)\n",
    "    plot(f,abs(fftshift(H)),label='a={}'.format(a))\n",
    "    \n",
    "legend() \n",
    "axis('tight')\n",
    "_=xlabel(\"Frequency\")"
   ]
  },
  {
   "cell_type": "markdown",
   "metadata": {},
   "source": [
    "### Correlation matrix"
   ]
  },
  {
   "cell_type": "code",
   "execution_count": null,
   "metadata": {
    "collapsed": false
   },
   "outputs": [],
   "source": [
    "from correlation import xcorr\n",
    "N=1000 #Number of samples\n",
    "x=stats.uniform(-0.5,1).rvs(N)\n",
    "a=0.8\n",
    "y=lfilter([1],[1, -a],x)\n",
    "\n",
    "L=30\n",
    "Rxx,lags=xcorr(x,x,maxlags=L)\n",
    "Rxy,lags=xcorr(x,y,maxlags=L)\n",
    "Ryx,lags=xcorr(y,x,maxlags=L)\n",
    "Ryy,lags=xcorr(y,y,maxlags=L)\n",
    "fig,ax=subplots(2,2,figsize=(7,5))\n",
    "axf=ax.flatten()\n",
    "Rtitles=('Rxx','Rxy','Ryx','Ryy')\n",
    "for k,z in enumerate((Rxx,Rxy,Ryx,Ryy)):\n",
    "    axf[k].plot(lags,z)\n",
    "    axf[k].set_title(Rtitles[k])\n",
    "fig.tight_layout()    "
   ]
  },
  {
   "cell_type": "markdown",
   "metadata": {},
   "source": [
    " We have represented above all the possible correlations between the input and the ouput. This representation corresponds to the correlation matrix of the vector $z(n)=[x(n) ~~ y(n)]^H$ that would give\n",
    " $$\n",
    " \\mathbb{E}\\left\\{ \\left[\\begin{array}[c]{c}\n",
    " x(n)\\\\\n",
    " y(n)\n",
    " \\end{array}\\right]\\left[\\begin{array}[c]{cc}\n",
    " x(n-k)^{*} & y(n-k)^{*}\\end{array}\\right]\\right\\} =\\left[\\begin{array}[c]{cc}\n",
    " R_{xx}(k) & R_{xy}(k)\\\\\n",
    " R_{yx}(k) & R_{yy}(k)\n",
    " \\end{array}\\right]\n",
    " $$"
   ]
  },
  {
   "cell_type": "markdown",
   "metadata": {},
   "source": [
    "### Identification of a filter by cross-correlation"
   ]
  },
  {
   "cell_type": "markdown",
   "metadata": {},
   "source": [
    " We know that the cross-correlation of the output of a system with IR $h$ with its input is given by \n",
    " $$\n",
    " R_{yx}(k)=\\left(R_{xx}*h\\right)(k).\n",
    " $$\n",
    " When the input is a white noise, then its autocorrelation $R_{xx}(k)$ is a Dirac impulse with weight $\\sigma_x^2$,  $R_{xx}(k)=\\sigma_x^2\\delta(k)$, and $R_{yx}$ is proportional to the impulse response:\n",
    " $$\n",
    " R_{yx}(k)=\\sigma_x^2 h(k).\n",
    " $$\n",
    " This is what we observe here:"
   ]
  },
  {
   "cell_type": "code",
   "execution_count": null,
   "metadata": {
    "collapsed": false
   },
   "outputs": [],
   "source": [
    "# An object \"uniform random variable\" with fixed bounds [0,1]\n",
    "x_uni=stats.uniform(loc=0,scale=1)\n",
    "(m,v)=x_uni.stats(moments='mv')\n",
    "print(\"Uniform distribution: \",\"Value of the mean : {0:2.3f} and of the variance {1:2.3f}\".format(float(m),float(v)))\n",
    "N=1000 #Number of samples\n",
    "x=stats.uniform(-0.5,1).rvs(N)  #generates N values for x\n",
    "a=0.8\n",
    "y=lfilter([1],[1, -a],x) #Computes the output of the system\n",
    "L=30\n",
    "Ryx,lags=xcorr(y,x,maxlags=L) #then the cross-correlation\n",
    "d=zeros(N); d[0]=1\n",
    "h=lfilter([1],[1, -a],d)  #and the impulse response\n",
    "plot(arange(L),Ryx[arange(L,L+L)],label=\"Intercorrelation $R_{yx}(k)$\")\n",
    "plot(arange(L),v*h[arange(L)],label=\"Impulse response $h(k)$\")\n",
    "xlabel(\"Lags $k$\")\n",
    "grid(True)\n",
    "legend()"
   ]
  },
  {
   "cell_type": "markdown",
   "metadata": {},
   "source": [
    " In the noisy case, the same kind of observations hold. Indeed, if $z$ is a corrupted version of $y$, with $z(n)=y(n)+w(n)$, then \n",
    " $$\n",
    " R_{zx}(k)=R_{yx}(k)+R_{wx}(k)=R_{yx}(k)\n",
    " $$\n",
    " provided that $x$ and $w$ are uncorrelated, which is reasonable assumption. "
   ]
  },
  {
   "cell_type": "code",
   "execution_count": null,
   "metadata": {
    "collapsed": false
   },
   "outputs": [],
   "source": [
    "N=1000\n",
    "#Remember that the variance of $x$ is given by\n",
    "x_uni=stats.uniform(-0.5,1)\n",
    "(m,v)=x_uni.stats(moments='mv')\n",
    "print(\"Uniform distribution: \",\"Value of the mean : {0:2.3f} and of the variance {1:2.3f}\".format(float(m),float(v)))"
   ]
  },
  {
   "cell_type": "code",
   "execution_count": null,
   "metadata": {
    "collapsed": false
   },
   "outputs": [],
   "source": [
    "N=1000 #Number of samples\n",
    "x=stats.uniform(-0.5,1).rvs(N)  #generates N values for x\n",
    "a=0.8\n",
    "y=lfilter([1],[1, -a],x)  #Computes the output of the system\n",
    "w=stats.norm(0,1).rvs(N)  #Gaussian noise\n",
    "y=y+0.5*w\n",
    "L=50\n",
    "Ryx,lags=xcorr(y,x,maxlags=L) #then the cross-correlation\n",
    "d=zeros(N); d[0]=1\n",
    "h=lfilter([1],[1, -a],d)  #and the impulse response\n",
    "plot(arange(L),Ryx[arange(L,L+L)],label=\"Intercorrelation $R_{yx}(k)$\")\n",
    "plot(arange(L),v*h[arange(L)],label=\"Impulse response $h(k)$\")\n",
    "xlabel(\"Lags $k$\")\n",
    "grid(True)\n",
    "legend()"
   ]
  },
  {
   "cell_type": "markdown",
   "metadata": {},
   "source": [
    " while the direct measure of the impulse response would give"
   ]
  },
  {
   "cell_type": "code",
   "execution_count": null,
   "metadata": {
    "collapsed": false
   },
   "outputs": [],
   "source": [
    "plot(arange(N),h+0.5*w,label=\"Direct measurement of the impulse response\")\n",
    "plot(arange(N),h,label=\"True impulse response\")\n",
    "xlim([0, 30])\n",
    "_=legend()"
   ]
  },
  {
   "cell_type": "markdown",
   "metadata": {},
   "source": [
    " Hence, we see that identification of a system is possible by cross-correlation, even when dealing with noisy outputs. Such identification would be impossible by direct measurement of the IR, because of the presence of noise. "
   ]
  },
  {
   "cell_type": "markdown",
   "metadata": {},
   "source": [
    "\n",
    "----\n",
    "<div align=right> <a href=toc.ipynb>Index</a> - <a href=Lecture1_RandomSignals.ipynb>Back</a> - <a href=Lecture3_RandomSignals.ipynb>Next</a></div>"
   ]
  }
 ],
 "metadata": {
  "interactive_sols": {
   "cbx_id": 4
  },
  "kernelspec": {
   "display_name": "Python 3",
   "language": "python",
   "name": "python3"
  },
  "language_info": {
   "codemirror_mode": {
    "name": "ipython",
    "version": 3
   },
   "file_extension": ".py",
   "mimetype": "text/x-python",
   "name": "python",
   "nbconvert_exporter": "python",
   "pygments_lexer": "ipython3",
   "version": "3.4.3+"
  },
  "latex_envs": {
   "bibliofile": "biblio.bib",
   "cite_by": "apalike",
   "current_citInitial": 1,
   "eqLabelWithNumbers": true,
   "eqNumInitial": 0
  }
 },
 "nbformat": 4,
 "nbformat_minor": 0
}
